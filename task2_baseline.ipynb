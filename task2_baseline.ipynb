{
 "cells": [
  {
   "cell_type": "code",
   "execution_count": 1,
   "id": "8c21a8d2-fb48-4b36-a7e5-b44a667b54a5",
   "metadata": {},
   "outputs": [
    {
     "name": "stderr",
     "output_type": "stream",
     "text": [
      "/Users/kossee/anaconda3/lib/python3.10/site-packages/tqdm/auto.py:21: TqdmWarning: IProgress not found. Please update jupyter and ipywidgets. See https://ipywidgets.readthedocs.io/en/stable/user_install.html\n",
      "  from .autonotebook import tqdm as notebook_tqdm\n"
     ]
    }
   ],
   "source": [
    "import numpy as np\n",
    "import pandas as pd\n",
    "import torch\n",
    "import torch.nn as nn\n",
    "import torch.nn.functional as F\n",
    "import matplotlib.pyplot as plt\n",
    "from torch.utils.data import Dataset, DataLoader\n",
    "import os\n",
    "from torchvision.io import read_image\n",
    "from torchvision import transforms\n",
    "from torchvision.transforms import ToTensor\n",
    "from tqdm import tqdm\n",
    "from PIL import Image\n",
    "from sklearn.metrics import accuracy_score, precision_score, recall_score, f1_score\n",
    "from sklearn.model_selection import train_test_split\n"
   ]
  },
  {
   "cell_type": "code",
   "execution_count": 2,
   "id": "bae7fb6b-a666-4641-a440-39dcafb90748",
   "metadata": {},
   "outputs": [],
   "source": [
    "train_annotation_file = 'task2/train_data/annotations.csv'\n",
    "train_img_labeled_dir = 'images/labeled/'\n",
    "\n",
    "val_img_dir = 'task2/val_data/'"
   ]
  },
  {
   "cell_type": "code",
   "execution_count": 3,
   "id": "ef0e12ea-1ac4-4416-9e35-e98c68034be2",
   "metadata": {},
   "outputs": [],
   "source": [
    "df = pd.read_csv(train_annotation_file)"
   ]
  },
  {
   "cell_type": "code",
   "execution_count": 4,
   "id": "7f173ef9-d7af-420a-89d6-0cf4c4e65317",
   "metadata": {},
   "outputs": [
    {
     "data": {
      "text/html": [
       "<div>\n",
       "<style scoped>\n",
       "    .dataframe tbody tr th:only-of-type {\n",
       "        vertical-align: middle;\n",
       "    }\n",
       "\n",
       "    .dataframe tbody tr th {\n",
       "        vertical-align: top;\n",
       "    }\n",
       "\n",
       "    .dataframe thead th {\n",
       "        text-align: right;\n",
       "    }\n",
       "</style>\n",
       "<table border=\"1\" class=\"dataframe\">\n",
       "  <thead>\n",
       "    <tr style=\"text-align: right;\">\n",
       "      <th></th>\n",
       "      <th>renamed_path</th>\n",
       "      <th>label_idx</th>\n",
       "    </tr>\n",
       "  </thead>\n",
       "  <tbody>\n",
       "    <tr>\n",
       "      <th>0</th>\n",
       "      <td>task2/train_data/images/labeled/0.jpeg</td>\n",
       "      <td>0</td>\n",
       "    </tr>\n",
       "    <tr>\n",
       "      <th>1</th>\n",
       "      <td>task2/train_data/images/labeled/1.jpeg</td>\n",
       "      <td>0</td>\n",
       "    </tr>\n",
       "    <tr>\n",
       "      <th>2</th>\n",
       "      <td>task2/train_data/images/labeled/2.jpeg</td>\n",
       "      <td>0</td>\n",
       "    </tr>\n",
       "    <tr>\n",
       "      <th>3</th>\n",
       "      <td>task2/train_data/images/labeled/3.jpeg</td>\n",
       "      <td>0</td>\n",
       "    </tr>\n",
       "    <tr>\n",
       "      <th>4</th>\n",
       "      <td>task2/train_data/images/labeled/4.jpeg</td>\n",
       "      <td>0</td>\n",
       "    </tr>\n",
       "  </tbody>\n",
       "</table>\n",
       "</div>"
      ],
      "text/plain": [
       "                             renamed_path  label_idx\n",
       "0  task2/train_data/images/labeled/0.jpeg          0\n",
       "1  task2/train_data/images/labeled/1.jpeg          0\n",
       "2  task2/train_data/images/labeled/2.jpeg          0\n",
       "3  task2/train_data/images/labeled/3.jpeg          0\n",
       "4  task2/train_data/images/labeled/4.jpeg          0"
      ]
     },
     "execution_count": 4,
     "metadata": {},
     "output_type": "execute_result"
    }
   ],
   "source": [
    "df.head()"
   ]
  },
  {
   "cell_type": "code",
   "execution_count": 6,
   "id": "08d38389-cf1a-45e9-8fc2-18afbbbfbf07",
   "metadata": {},
   "outputs": [
    {
     "name": "stdout",
     "output_type": "stream",
     "text": [
      "Number of rows in the training dataset:  50000\n",
      "Number of classes:  100\n",
      "Percentage of each class in the training dataset:\n",
      "\n",
      " label_idx\n",
      "12    1.984\n",
      "94    1.836\n",
      "24    1.778\n",
      "59    1.768\n",
      "5     1.720\n",
      "      ...  \n",
      "7     0.726\n",
      "97    0.726\n",
      "18    0.724\n",
      "11    0.722\n",
      "46    0.722\n",
      "Name: count, Length: 100, dtype: float64\n"
     ]
    }
   ],
   "source": [
    "print(\"Number of rows in the training dataset: \",df.shape[0])\n",
    "print(\"Number of classes: \", df['label_idx'].nunique())\n",
    "print(\"Percentage of each class in the training dataset:\\n\\n\",df['label_idx'].value_counts()*100/df.shape[0])"
   ]
  },
  {
   "cell_type": "code",
   "execution_count": 7,
   "id": "85ef232d-bd4d-4fdf-8319-c285bd4cd9af",
   "metadata": {},
   "outputs": [],
   "source": [
    "train_data, test_data = train_test_split(df, test_size=0.2, stratify=df['label_idx'], random_state=42)"
   ]
  },
  {
   "cell_type": "code",
   "execution_count": 8,
   "id": "30ee0554-8077-433f-b055-dc2695ddd014",
   "metadata": {},
   "outputs": [],
   "source": [
    "transform = transforms.Compose([\n",
    "    transforms.RandomHorizontalFlip(), # le decomentam ptr train\n",
    "    transforms.RandomRotation(degrees=15), # le decomentam ptr train\n",
    "    transforms.ToTensor(),\n",
    "    transforms.ConvertImageDtype(torch.float),\n",
    "\n",
    "])"
   ]
  },
  {
   "cell_type": "code",
   "execution_count": 9,
   "id": "65bb7911-540d-4d00-85b5-742e00d6181c",
   "metadata": {},
   "outputs": [],
   "source": [
    "class AAITDataset(Dataset):\n",
    "    def __init__(self, dataset, img_dir, is_train=True, transform=None, target_transform=None):\n",
    "        self.is_train = is_train\n",
    "        if self.is_train:\n",
    "            self.img_labels = dataset\n",
    "        self.img_dir = img_dir\n",
    "        self.transform = transform\n",
    "        self.target_transform = target_transform\n",
    "\n",
    "    def __len__(self):\n",
    "        if self.is_train:\n",
    "            return len(self.img_labels)\n",
    "        else:\n",
    "            self.img_files = [f for f in os.listdir(self.img_dir) if os.path.isfile(os.path.join(self.img_dir, f))]\n",
    "            return len(self.img_files)\n",
    "\n",
    "    def __getitem__(self, idx):\n",
    "        if self.is_train:\n",
    "            img_path = self.img_labels.iloc[idx, 0]\n",
    "            image = Image.open(img_path).convert('RGB')\n",
    "            if self.transform:\n",
    "                image = self.transform(image)\n",
    "            #print(image)\n",
    "            if image.size()[0] == 1:\n",
    "                image = image.expand(3, -1, -1)\n",
    "            label = self.img_labels.iloc[idx, 1]\n",
    "            \n",
    "            if self.target_transform:\n",
    "                label = self.target_transform(label)\n",
    "            return image, label, img_path\n",
    "        else: \n",
    "            img_path = os.path.join(self.img_dir, self.img_files[idx])\n",
    "            image = Image.open(img_path).convert('RGB')\n",
    "            if self.transform:\n",
    "                image = self.transform(image)\n",
    "            if image.size(0) == 1:\n",
    "                image = image.expand(3, -1, -1)\n",
    "            \n",
    "            return image, img_path"
   ]
  },
  {
   "cell_type": "code",
   "execution_count": 10,
   "id": "c7faf9f3-5bf3-42d8-a56f-541c68eeb2a4",
   "metadata": {},
   "outputs": [],
   "source": [
    "train_dataset = AAITDataset(train_data, train_img_labeled_dir, is_train=True, transform=transform)\n",
    "train_dataloader = DataLoader(train_dataset, batch_size=64, shuffle=True)\n",
    "\n",
    "test_dataset = AAITDataset(test_data, train_img_labeled_dir, is_train=True, transform=transform)\n",
    "test_dataloader = DataLoader(train_dataset, batch_size=64, shuffle=True)"
   ]
  },
  {
   "cell_type": "code",
   "execution_count": 11,
   "id": "a91ea6d3-d1d2-430d-bdaa-806c0f498a24",
   "metadata": {},
   "outputs": [
    {
     "name": "stdout",
     "output_type": "stream",
     "text": [
      "Feature batch shape: torch.Size([64, 3, 64, 64])\n",
      "Labels batch shape: torch.Size([64])\n"
     ]
    },
    {
     "data": {
      "image/png": "[encoded data removed]",
      "text/plain": [
       "<Figure size 640x480 with 1 Axes>"
      ]
     },
     "metadata": {},
     "output_type": "display_data"
    },
    {
     "name": "stdout",
     "output_type": "stream",
     "text": [
      "Label: 72\n"
     ]
    }
   ],
   "source": [
    "train_features, train_labels, _ = next(iter(train_dataloader))\n",
    "print(f\"Feature batch shape: {train_features.size()}\")\n",
    "print(f\"Labels batch shape: {train_labels.size()}\")\n",
    "img = train_features[0].squeeze()\n",
    "label = train_labels[0]\n",
    "plt.imshow(img.permute(1, 2, 0), cmap=\"gray\")\n",
    "plt.show()\n",
    "print(f\"Label: {label}\")"
   ]
  },
  {
   "cell_type": "code",
   "execution_count": 13,
   "id": "6d6ebd94-ae6b-4e19-802b-913614077f5a",
   "metadata": {},
   "outputs": [
    {
     "name": "stdout",
     "output_type": "stream",
     "text": [
      "mps\n"
     ]
    }
   ],
   "source": [
    "if torch.backends.mps.is_available():\n",
    "    mps_device = torch.device(\"mps\")\n",
    "    print(mps_device)\n",
    "else:\n",
    "    print(\"MPS not found!\")"
   ]
  },
  {
   "cell_type": "code",
   "execution_count": 15,
   "id": "72f5d920-37fe-4600-b559-56c4b2306dd0",
   "metadata": {},
   "outputs": [
    {
     "name": "stderr",
     "output_type": "stream",
     "text": [
      "100%|██████████| 625/625 [00:49<00:00, 12.61it/s]\n"
     ]
    },
    {
     "name": "stdout",
     "output_type": "stream",
     "text": [
      "Epoch 1/20, Loss: 3.8933, Accuracy: 17.17%\n"
     ]
    },
    {
     "name": "stderr",
     "output_type": "stream",
     "text": [
      "100%|██████████| 625/625 [00:49<00:00, 12.73it/s]\n"
     ]
    },
    {
     "name": "stdout",
     "output_type": "stream",
     "text": [
      "Epoch 2/20, Loss: 2.0562, Accuracy: 47.35%\n"
     ]
    },
    {
     "name": "stderr",
     "output_type": "stream",
     "text": [
      "100%|██████████| 625/625 [00:45<00:00, 13.70it/s]\n"
     ]
    },
    {
     "name": "stdout",
     "output_type": "stream",
     "text": [
      "Epoch 3/20, Loss: 1.6404, Accuracy: 54.50%\n"
     ]
    },
    {
     "name": "stderr",
     "output_type": "stream",
     "text": [
      "100%|██████████| 625/625 [00:49<00:00, 12.69it/s]\n"
     ]
    },
    {
     "name": "stdout",
     "output_type": "stream",
     "text": [
      "Epoch 4/20, Loss: 1.4499, Accuracy: 58.43%\n"
     ]
    },
    {
     "name": "stderr",
     "output_type": "stream",
     "text": [
      "100%|██████████| 625/625 [00:44<00:00, 13.90it/s]\n"
     ]
    },
    {
     "name": "stdout",
     "output_type": "stream",
     "text": [
      "Epoch 5/20, Loss: 1.3305, Accuracy: 60.79%\n"
     ]
    },
    {
     "name": "stderr",
     "output_type": "stream",
     "text": [
      "100%|██████████| 625/625 [00:45<00:00, 13.76it/s]\n"
     ]
    },
    {
     "name": "stdout",
     "output_type": "stream",
     "text": [
      "Epoch 6/20, Loss: 1.2263, Accuracy: 63.12%\n"
     ]
    },
    {
     "name": "stderr",
     "output_type": "stream",
     "text": [
      "100%|██████████| 625/625 [00:45<00:00, 13.74it/s]\n"
     ]
    },
    {
     "name": "stdout",
     "output_type": "stream",
     "text": [
      "Epoch 7/20, Loss: 1.1459, Accuracy: 64.96%\n"
     ]
    },
    {
     "name": "stderr",
     "output_type": "stream",
     "text": [
      "100%|██████████| 625/625 [00:45<00:00, 13.79it/s]\n"
     ]
    },
    {
     "name": "stdout",
     "output_type": "stream",
     "text": [
      "Epoch 8/20, Loss: 1.0631, Accuracy: 66.70%\n"
     ]
    },
    {
     "name": "stderr",
     "output_type": "stream",
     "text": [
      "100%|██████████| 625/625 [00:45<00:00, 13.87it/s]\n"
     ]
    },
    {
     "name": "stdout",
     "output_type": "stream",
     "text": [
      "Epoch 9/20, Loss: 0.9972, Accuracy: 68.29%\n"
     ]
    },
    {
     "name": "stderr",
     "output_type": "stream",
     "text": [
      "100%|██████████| 625/625 [00:45<00:00, 13.59it/s]\n"
     ]
    },
    {
     "name": "stdout",
     "output_type": "stream",
     "text": [
      "Epoch 10/20, Loss: 0.9303, Accuracy: 70.15%\n"
     ]
    },
    {
     "name": "stderr",
     "output_type": "stream",
     "text": [
      "100%|██████████| 625/625 [00:46<00:00, 13.38it/s]\n"
     ]
    },
    {
     "name": "stdout",
     "output_type": "stream",
     "text": [
      "Epoch 11/20, Loss: 0.8751, Accuracy: 71.39%\n"
     ]
    },
    {
     "name": "stderr",
     "output_type": "stream",
     "text": [
      "100%|██████████| 625/625 [00:46<00:00, 13.42it/s]\n"
     ]
    },
    {
     "name": "stdout",
     "output_type": "stream",
     "text": [
      "Epoch 12/20, Loss: 0.8160, Accuracy: 72.89%\n"
     ]
    },
    {
     "name": "stderr",
     "output_type": "stream",
     "text": [
      "100%|██████████| 625/625 [00:46<00:00, 13.42it/s]\n"
     ]
    },
    {
     "name": "stdout",
     "output_type": "stream",
     "text": [
      "Epoch 13/20, Loss: 0.7650, Accuracy: 74.38%\n"
     ]
    },
    {
     "name": "stderr",
     "output_type": "stream",
     "text": [
      "100%|██████████| 625/625 [00:46<00:00, 13.46it/s]\n"
     ]
    },
    {
     "name": "stdout",
     "output_type": "stream",
     "text": [
      "Epoch 14/20, Loss: 0.7138, Accuracy: 76.13%\n"
     ]
    },
    {
     "name": "stderr",
     "output_type": "stream",
     "text": [
      "100%|██████████| 625/625 [00:46<00:00, 13.42it/s]\n"
     ]
    },
    {
     "name": "stdout",
     "output_type": "stream",
     "text": [
      "Epoch 15/20, Loss: 0.6668, Accuracy: 77.34%\n"
     ]
    },
    {
     "name": "stderr",
     "output_type": "stream",
     "text": [
      "100%|██████████| 625/625 [00:46<00:00, 13.41it/s]\n"
     ]
    },
    {
     "name": "stdout",
     "output_type": "stream",
     "text": [
      "Epoch 16/20, Loss: 0.6204, Accuracy: 78.72%\n"
     ]
    },
    {
     "name": "stderr",
     "output_type": "stream",
     "text": [
      "100%|██████████| 625/625 [00:46<00:00, 13.45it/s]\n"
     ]
    },
    {
     "name": "stdout",
     "output_type": "stream",
     "text": [
      "Epoch 17/20, Loss: 0.5767, Accuracy: 80.15%\n"
     ]
    },
    {
     "name": "stderr",
     "output_type": "stream",
     "text": [
      "100%|██████████| 625/625 [00:46<00:00, 13.47it/s]\n"
     ]
    },
    {
     "name": "stdout",
     "output_type": "stream",
     "text": [
      "Epoch 18/20, Loss: 0.5362, Accuracy: 81.45%\n"
     ]
    },
    {
     "name": "stderr",
     "output_type": "stream",
     "text": [
      "100%|██████████| 625/625 [00:46<00:00, 13.51it/s]\n"
     ]
    },
    {
     "name": "stdout",
     "output_type": "stream",
     "text": [
      "Epoch 19/20, Loss: 0.4955, Accuracy: 82.78%\n"
     ]
    },
    {
     "name": "stderr",
     "output_type": "stream",
     "text": [
      "100%|██████████| 625/625 [00:46<00:00, 13.49it/s]\n"
     ]
    },
    {
     "name": "stdout",
     "output_type": "stream",
     "text": [
      "Epoch 20/20, Loss: 0.4644, Accuracy: 84.04%\n",
      "Results:\n",
      "Average loss:  0.3028610287427902\n",
      "Accuracy:  89.9525\n",
      "Precision:  90.21717322981209\n",
      "Recall:  89.9525\n",
      "F1 score:  89.88869115535172\n",
      "CPU times: user 14min 3s, sys: 2min 14s, total: 16min 17s\n",
      "Wall time: 15min 51s\n"
     ]
    }
   ],
   "source": [
    "%%time\n",
    "from torchvision import models\n",
    "\n",
    "class CustomModel(nn.Module):\n",
    "    def __init__(self, num_classes, pretrained=True):\n",
    "        super(CustomModel, self).__init__()\n",
    "    \n",
    "        self.resnet50 = models.resnet50(weights=\"IMAGENET1K_V2\")\n",
    "\n",
    "        num_features = self.resnet50.fc.in_features\n",
    "        self.dropout = nn.Dropout(p=0.1)\n",
    "        self.resnet50.fc = nn.Sequential(\n",
    "            nn.Linear(num_features, 1024),\n",
    "            nn.ReLU(),\n",
    "            self.dropout,\n",
    "            nn.Linear(1024, num_classes)\n",
    "        )\n",
    "        #self.resnet50.fc = nn.Linear(num_features, num_classes)\n",
    "\n",
    "    def forward(self, x):\n",
    "        # Forward pass through the network\n",
    "        return self.resnet50(x)\n",
    "\n",
    "\n",
    "model = CustomModel(num_classes=100, pretrained=True).to(mps_device)\n",
    "\n",
    "def train_model(model, train_dataloader, criterion, optimizer, epochs, device):\n",
    "    model.train()\n",
    "    for epoch in range(epochs):\n",
    "        total_loss = 0\n",
    "        correct = 0\n",
    "        total = 0\n",
    "        for images, labels, _ in tqdm(train_dataloader):\n",
    "            images, labels = images.to(device), labels.to(device)\n",
    "\n",
    "            optimizer.zero_grad()\n",
    "            outputs = model(images)\n",
    "            loss = criterion(outputs, labels)\n",
    "            loss.backward()\n",
    "            optimizer.step()\n",
    "\n",
    "            total_loss += loss.item()\n",
    "            _, predicted = torch.max(outputs.data, 1)\n",
    "            total += labels.size(0)\n",
    "            correct += (predicted == labels).sum().item()\n",
    "\n",
    "        epoch_loss = total_loss / len(train_dataloader)\n",
    "        epoch_acc = 100 * correct / total\n",
    "        print(f'Epoch {epoch+1}/{epochs}, Loss: {epoch_loss:.4f}, Accuracy: {epoch_acc:.2f}%')\n",
    "\n",
    "def evaluate_model(model, dataloader, criterion, device):\n",
    "    model.eval()\n",
    "    total_loss = 0\n",
    "    correct = 0\n",
    "    total = 0\n",
    "    all_labels = []\n",
    "    all_preds = []\n",
    "\n",
    "    with torch.no_grad():\n",
    "        for images, labels, _ in dataloader:\n",
    "            images, labels = images.to(device), labels.to(device)\n",
    "            outputs = model(images)\n",
    "            loss = criterion(outputs, labels)\n",
    "            total_loss += loss.item()\n",
    "\n",
    "            _, predicted = torch.max(outputs.data, 1)\n",
    "            total += labels.size(0)\n",
    "            correct += (predicted == labels).sum().item()\n",
    "\n",
    "            all_labels.extend(labels.cpu().numpy())\n",
    "            all_preds.extend(predicted.cpu().numpy())\n",
    "\n",
    "    avg_loss = total_loss / len(dataloader)\n",
    "    accuracy = accuracy_score(all_labels, all_preds)\n",
    "    precision = precision_score(all_labels, all_preds, average='weighted')\n",
    "    recall = recall_score(all_labels, all_preds, average='weighted')\n",
    "    f1 = f1_score(all_labels, all_preds, average='weighted')\n",
    "\n",
    "    return avg_loss, accuracy, precision, recall, f1\n",
    "\n",
    "criterion = nn.CrossEntropyLoss()\n",
    "#optimizer = torch.optim.Adam(teacher_model.parameters(), lr=0.00001)\n",
    "optimizer = torch.optim.SGD(model.parameters(), lr=0.001, momentum=0.9)\n",
    "train_model(model, train_dataloader, criterion, optimizer, epochs=20, device=mps_device)\n",
    "avg_loss, acc, prec, rec, f1 = evaluate_model(model, test_dataloader, criterion, mps_device)\n",
    "print(\"Results:\")\n",
    "print(\"Average loss: \", avg_loss)\n",
    "print(\"Accuracy: \", acc*100)\n",
    "print(\"Precision: \", prec*100)\n",
    "print(\"Recall: \", rec*100)\n",
    "print(\"F1 score: \", f1*100)"
   ]
  },
  {
   "cell_type": "code",
   "execution_count": 16,
   "id": "f86eac17-3a40-41d3-93e9-9d46b58a941b",
   "metadata": {},
   "outputs": [],
   "source": [
    "def generate_pseudo_labels(model, dataloader):\n",
    "    model.eval()\n",
    "    pseudo_label_data = []\n",
    "    with torch.no_grad():\n",
    "        for images, img_paths in dataloader:\n",
    "            images = images.to(mps_device)\n",
    "            outputs = model(images)\n",
    "            probs, predicted = torch.max(outputs, 1)\n",
    "            \n",
    "            \n",
    "            for img_path, label in zip(img_paths, predicted):\n",
    "                pseudo_label_data.append((img_path, label.item()))\n",
    "\n",
    "    pseudo_labels_df = pd.DataFrame(pseudo_label_data, columns=['sample', 'label'])\n",
    "    return pseudo_labels_df\n",
    "\n"
   ]
  },
  {
   "cell_type": "code",
   "execution_count": 17,
   "id": "fbf2e12f-56d6-4e50-98c9-07b841a6abc8",
   "metadata": {},
   "outputs": [],
   "source": [
    "val_unlabeled_dataset = AAITDataset(None, val_img_dir, is_train=False, transform=transform)\n",
    "val_unlabeled_dataloader = DataLoader(val_unlabeled_dataset, batch_size=64, shuffle=False)\n",
    "\n",
    "val_labels = generate_pseudo_labels(model, val_unlabeled_dataloader)\n",
    "val_labels['sample'] = val_labels['sample'].apply(lambda x: x.split('/')[-1])\n"
   ]
  },
  {
   "cell_type": "code",
   "execution_count": 18,
   "id": "248644f9-bee4-4175-8592-50fc716ff9db",
   "metadata": {},
   "outputs": [],
   "source": [
    "val_labels['sort_key'] = val_labels['sample'].str.extract('(\\d+)').astype(int)\n",
    "val_labels.sort_values(by='sort_key', ascending=True, inplace=True)\n",
    "val_labels.reset_index(inplace=True)\n",
    "val_labels.drop(columns=['sort_key','index'], inplace=True)\n",
    "\n",
    "val_labels.to_csv('task2/baseline.csv', index=False)"
   ]
  },
  {
   "cell_type": "code",
   "execution_count": null,
   "id": "343170b7-7414-43a3-b027-778ebc2f8852",
   "metadata": {},
   "outputs": [],
   "source": []
  }
 ],
 "metadata": {
  "kernelspec": {
   "display_name": "Python 3 (ipykernel)",
   "language": "python",
   "name": "python3"
  },
  "language_info": {
   "codemirror_mode": {
    "name": "ipython",
    "version": 3
   },
   "file_extension": ".py",
   "mimetype": "text/x-python",
   "name": "python",
   "nbconvert_exporter": "python",
   "pygments_lexer": "ipython3",
   "version": "3.10.13"
  }
 },
 "nbformat": 4,
 "nbformat_minor": 5
}
