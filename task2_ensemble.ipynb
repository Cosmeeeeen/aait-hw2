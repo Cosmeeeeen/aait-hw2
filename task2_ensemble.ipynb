{
 "cells": [
  {
   "cell_type": "code",
   "execution_count": 1,
   "id": "05faf1ce-ab62-4a44-be08-e7d4b054f0bf",
   "metadata": {},
   "outputs": [
    {
     "name": "stderr",
     "output_type": "stream",
     "text": [
      "/Users/kossee/anaconda3/lib/python3.10/site-packages/tqdm/auto.py:21: TqdmWarning: IProgress not found. Please update jupyter and ipywidgets. See https://ipywidgets.readthedocs.io/en/stable/user_install.html\n",
      "  from .autonotebook import tqdm as notebook_tqdm\n"
     ]
    }
   ],
   "source": [
    "import numpy as np\n",
    "import pandas as pd\n",
    "import torch\n",
    "import torch.nn as nn\n",
    "import torch.nn.functional as F\n",
    "import matplotlib.pyplot as plt\n",
    "from torch.utils.data import Dataset, DataLoader\n",
    "import os\n",
    "from torchvision.io import read_image\n",
    "from torchvision import transforms\n",
    "from torchvision.transforms import ToTensor\n",
    "from torchvision import models\n",
    "from tqdm import tqdm\n",
    "from PIL import Image\n",
    "from sklearn.metrics import accuracy_score, precision_score, recall_score, f1_score\n",
    "from sklearn.model_selection import train_test_split\n"
   ]
  },
  {
   "cell_type": "code",
   "execution_count": 2,
   "id": "1fc84195-cf81-48e9-b9f4-f50e3f685554",
   "metadata": {},
   "outputs": [],
   "source": [
    "train_annotation_file = 'task2/train_data/annotations.csv'\n",
    "train_img_labeled_dir = 'images/labeled/'\n",
    "\n",
    "val_img_dir = 'task2/val_data/'"
   ]
  },
  {
   "cell_type": "code",
   "execution_count": 3,
   "id": "5715b9d2-f4bc-400b-9191-4b031d8bf7bf",
   "metadata": {},
   "outputs": [],
   "source": [
    "df = pd.read_csv(train_annotation_file)"
   ]
  },
  {
   "cell_type": "code",
   "execution_count": 4,
   "id": "ae876d81-fc78-4149-93da-7e7f2a934470",
   "metadata": {},
   "outputs": [
    {
     "data": {
      "text/html": [
       "<div>\n",
       "<style scoped>\n",
       "    .dataframe tbody tr th:only-of-type {\n",
       "        vertical-align: middle;\n",
       "    }\n",
       "\n",
       "    .dataframe tbody tr th {\n",
       "        vertical-align: top;\n",
       "    }\n",
       "\n",
       "    .dataframe thead th {\n",
       "        text-align: right;\n",
       "    }\n",
       "</style>\n",
       "<table border=\"1\" class=\"dataframe\">\n",
       "  <thead>\n",
       "    <tr style=\"text-align: right;\">\n",
       "      <th></th>\n",
       "      <th>renamed_path</th>\n",
       "      <th>label_idx</th>\n",
       "    </tr>\n",
       "  </thead>\n",
       "  <tbody>\n",
       "    <tr>\n",
       "      <th>0</th>\n",
       "      <td>task2/train_data/images/labeled/0.jpeg</td>\n",
       "      <td>0</td>\n",
       "    </tr>\n",
       "    <tr>\n",
       "      <th>1</th>\n",
       "      <td>task2/train_data/images/labeled/1.jpeg</td>\n",
       "      <td>0</td>\n",
       "    </tr>\n",
       "    <tr>\n",
       "      <th>2</th>\n",
       "      <td>task2/train_data/images/labeled/2.jpeg</td>\n",
       "      <td>0</td>\n",
       "    </tr>\n",
       "    <tr>\n",
       "      <th>3</th>\n",
       "      <td>task2/train_data/images/labeled/3.jpeg</td>\n",
       "      <td>0</td>\n",
       "    </tr>\n",
       "    <tr>\n",
       "      <th>4</th>\n",
       "      <td>task2/train_data/images/labeled/4.jpeg</td>\n",
       "      <td>0</td>\n",
       "    </tr>\n",
       "  </tbody>\n",
       "</table>\n",
       "</div>"
      ],
      "text/plain": [
       "                             renamed_path  label_idx\n",
       "0  task2/train_data/images/labeled/0.jpeg          0\n",
       "1  task2/train_data/images/labeled/1.jpeg          0\n",
       "2  task2/train_data/images/labeled/2.jpeg          0\n",
       "3  task2/train_data/images/labeled/3.jpeg          0\n",
       "4  task2/train_data/images/labeled/4.jpeg          0"
      ]
     },
     "execution_count": 4,
     "metadata": {},
     "output_type": "execute_result"
    }
   ],
   "source": [
    "df.head()"
   ]
  },
  {
   "cell_type": "code",
   "execution_count": 5,
   "id": "c0f71144-8644-4d9a-818a-2a4c168bb095",
   "metadata": {},
   "outputs": [
    {
     "name": "stdout",
     "output_type": "stream",
     "text": [
      "Number of rows in the training dataset:  50000\n",
      "Number of classes:  100\n",
      "Percentage of each class in the training dataset:\n",
      "\n",
      " label_idx\n",
      "12    1.984\n",
      "94    1.836\n",
      "24    1.778\n",
      "59    1.768\n",
      "5     1.720\n",
      "      ...  \n",
      "7     0.726\n",
      "97    0.726\n",
      "18    0.724\n",
      "11    0.722\n",
      "46    0.722\n",
      "Name: count, Length: 100, dtype: float64\n"
     ]
    }
   ],
   "source": [
    "print(\"Number of rows in the training dataset: \",df.shape[0])\n",
    "print(\"Number of classes: \", df['label_idx'].nunique())\n",
    "print(\"Percentage of each class in the training dataset:\\n\\n\",df['label_idx'].value_counts()*100/df.shape[0])"
   ]
  },
  {
   "cell_type": "code",
   "execution_count": 6,
   "id": "a694d2ad-985a-4d6d-9684-1d181700719c",
   "metadata": {},
   "outputs": [],
   "source": [
    "train_data, test_data = train_test_split(df, test_size=0.2, stratify=df['label_idx'], random_state=42)"
   ]
  },
  {
   "cell_type": "code",
   "execution_count": 7,
   "id": "afb228e3-e30f-4969-929b-753f3f0f2e15",
   "metadata": {},
   "outputs": [],
   "source": [
    "transform = transforms.Compose([\n",
    "    transforms.RandomHorizontalFlip(), # le decomentam ptr train\n",
    "    transforms.RandomRotation(degrees=15), # le decomentam ptr train\n",
    "    transforms.ToTensor(),\n",
    "    transforms.ConvertImageDtype(torch.float),\n",
    "\n",
    "])"
   ]
  },
  {
   "cell_type": "code",
   "execution_count": 8,
   "id": "801f9a0a-23c3-451d-a087-12311d496579",
   "metadata": {},
   "outputs": [],
   "source": [
    "class AAITDataset(Dataset):\n",
    "    def __init__(self, dataset, img_dir, is_train=True, transform=None, target_transform=None):\n",
    "        self.is_train = is_train\n",
    "        if self.is_train:\n",
    "            self.img_labels = dataset\n",
    "        self.img_dir = img_dir\n",
    "        self.transform = transform\n",
    "        self.target_transform = target_transform\n",
    "\n",
    "    def __len__(self):\n",
    "        if self.is_train:\n",
    "            return len(self.img_labels)\n",
    "        else:\n",
    "            self.img_files = [f for f in os.listdir(self.img_dir) if os.path.isfile(os.path.join(self.img_dir, f))]\n",
    "            return len(self.img_files)\n",
    "\n",
    "    def __getitem__(self, idx):\n",
    "        if self.is_train:\n",
    "            img_path = self.img_labels.iloc[idx, 0]\n",
    "            image = Image.open(img_path).convert('RGB')\n",
    "            if self.transform:\n",
    "                image = self.transform(image)\n",
    "            #print(image)\n",
    "            if image.size()[0] == 1:\n",
    "                image = image.expand(3, -1, -1)\n",
    "            label = self.img_labels.iloc[idx, 1]\n",
    "            \n",
    "            if self.target_transform:\n",
    "                label = self.target_transform(label)\n",
    "            return image, label, img_path\n",
    "        else: \n",
    "            img_path = os.path.join(self.img_dir, self.img_files[idx])\n",
    "            image = Image.open(img_path).convert('RGB')\n",
    "            if self.transform:\n",
    "                image = self.transform(image)\n",
    "            if image.size(0) == 1:\n",
    "                image = image.expand(3, -1, -1)\n",
    "            \n",
    "            return image, img_path"
   ]
  },
  {
   "cell_type": "code",
   "execution_count": 9,
   "id": "14c218de-4aa0-42e8-afcf-a693d432d670",
   "metadata": {},
   "outputs": [],
   "source": [
    "train_dataset = AAITDataset(train_data, train_img_labeled_dir, is_train=True, transform=transform)\n",
    "train_dataloader = DataLoader(train_dataset, batch_size=64, shuffle=True)\n",
    "\n",
    "test_dataset = AAITDataset(test_data, train_img_labeled_dir, is_train=True, transform=transform)\n",
    "test_dataloader = DataLoader(test_dataset, batch_size=64, shuffle=True)"
   ]
  },
  {
   "cell_type": "code",
   "execution_count": 10,
   "id": "98e57c2d-8b44-4ec7-bb6f-29784195cf55",
   "metadata": {},
   "outputs": [
    {
     "name": "stdout",
     "output_type": "stream",
     "text": [
      "Feature batch shape: torch.Size([64, 3, 64, 64])\n",
      "Labels batch shape: torch.Size([64])\n"
     ]
    },
    {
     "data": {
      "image/png": "[encoded data removed]",
      "text/plain": [
       "<Figure size 640x480 with 1 Axes>"
      ]
     },
     "metadata": {},
     "output_type": "display_data"
    },
    {
     "name": "stdout",
     "output_type": "stream",
     "text": [
      "Label: 90\n"
     ]
    }
   ],
   "source": [
    "train_features, train_labels, _ = next(iter(train_dataloader))\n",
    "print(f\"Feature batch shape: {train_features.size()}\")\n",
    "print(f\"Labels batch shape: {train_labels.size()}\")\n",
    "img = train_features[0].squeeze()\n",
    "label = train_labels[0]\n",
    "plt.imshow(img.permute(1, 2, 0), cmap=\"gray\")\n",
    "plt.show()\n",
    "print(f\"Label: {label}\")"
   ]
  },
  {
   "cell_type": "code",
   "execution_count": 11,
   "id": "09dfdc1e-f9ef-43a4-a8c4-a39699839df9",
   "metadata": {},
   "outputs": [
    {
     "name": "stdout",
     "output_type": "stream",
     "text": [
      "mps\n"
     ]
    }
   ],
   "source": [
    "if torch.backends.mps.is_available():\n",
    "    mps_device = torch.device(\"mps\")\n",
    "    print(mps_device)\n",
    "else:\n",
    "    print(\"MPS not found!\")"
   ]
  },
  {
   "cell_type": "code",
   "execution_count": 17,
   "id": "9e651050-5f96-43fd-88eb-498572e16437",
   "metadata": {},
   "outputs": [],
   "source": [
    "class CustomModel(nn.Module):\n",
    "    def __init__(self, num_classes, pretrained=True):\n",
    "        super(CustomModel, self).__init__()\n",
    "        \n",
    "        self.resnet50 = models.resnet50(weights=\"IMAGENET1K_V2\")\n",
    "\n",
    "        num_features = self.resnet50.fc.in_features\n",
    "        self.dropout = nn.Dropout(p=0.1)\n",
    "        self.resnet50.fc = nn.Sequential(\n",
    "            nn.Linear(num_features, 1024),\n",
    "            nn.ReLU(),\n",
    "            self.dropout,\n",
    "            nn.Linear(1024, num_classes)\n",
    "        )\n",
    "        #self.resnet50.fc = nn.Linear(num_features, num_classes)\n",
    "\n",
    "    def forward(self, x):\n",
    "        # Forward pass through the network\n",
    "        return self.resnet50(x)\n",
    "\n",
    "\n",
    "model = CustomModel(num_classes=100, pretrained=True).to(mps_device)"
   ]
  },
  {
   "cell_type": "code",
   "execution_count": 18,
   "id": "ebda6b36-8903-47d3-a983-608170114d18",
   "metadata": {},
   "outputs": [],
   "source": [
    "def train_model(model, train_dataloader, criterion, optimizer, epochs, device):\n",
    "    model.train()\n",
    "    for epoch in range(epochs):\n",
    "        total_loss = 0\n",
    "        correct = 0\n",
    "        total = 0\n",
    "        for images, labels, _ in tqdm(train_dataloader):\n",
    "            images, labels = images.to(device), labels.to(device)\n",
    "\n",
    "            optimizer.zero_grad()\n",
    "            outputs = model(images)\n",
    "            loss = criterion(outputs, labels)\n",
    "            loss.backward()\n",
    "            optimizer.step()\n",
    "\n",
    "            total_loss += loss.item()\n",
    "            _, predicted = torch.max(outputs.data, 1)\n",
    "            total += labels.size(0)\n",
    "            correct += (predicted == labels).sum().item()\n",
    "\n",
    "        epoch_loss = total_loss / len(train_dataloader)\n",
    "        epoch_acc = 100 * correct / total\n",
    "        if epoch % 10 == 0:\n",
    "            print(f'Epoch {epoch+1}/{epochs}, Loss: {epoch_loss:.4f}, Accuracy: {epoch_acc:.2f}%')\n",
    "\n",
    "def evaluate_model(model, dataloader, criterion, device):\n",
    "    model.eval()\n",
    "    total_loss = 0\n",
    "    correct = 0\n",
    "    total = 0\n",
    "    all_labels = []\n",
    "    all_preds = []\n",
    "\n",
    "    with torch.no_grad():\n",
    "        for images, labels, _ in dataloader:\n",
    "            images, labels = images.to(device), labels.to(device)\n",
    "            outputs = model(images)\n",
    "            loss = criterion(outputs, labels)\n",
    "            total_loss += loss.item()\n",
    "\n",
    "            _, predicted = torch.max(outputs.data, 1)\n",
    "            total += labels.size(0)\n",
    "            correct += (predicted == labels).sum().item()\n",
    "\n",
    "            all_labels.extend(labels.cpu().numpy())\n",
    "            all_preds.extend(predicted.cpu().numpy())\n",
    "\n",
    "    avg_loss = total_loss / len(dataloader)\n",
    "    accuracy = accuracy_score(all_labels, all_preds)\n",
    "    precision = precision_score(all_labels, all_preds, average='weighted')\n",
    "    recall = recall_score(all_labels, all_preds, average='weighted')\n",
    "    f1 = f1_score(all_labels, all_preds, average='weighted')\n",
    "\n",
    "    return avg_loss, accuracy, precision, recall, f1"
   ]
  },
  {
   "cell_type": "code",
   "execution_count": 19,
   "id": "a2480e3b-6dfe-48db-ae23-d73755762c49",
   "metadata": {},
   "outputs": [],
   "source": [
    "from torchvision.models import efficientnet_b0, EfficientNet_B0_Weights\n",
    "from torchvision.models._api import WeightsEnum\n",
    "from torch.hub import load_state_dict_from_url\n",
    "\n",
    "num_classes=100\n",
    "\n",
    "def get_state_dict(self, *args, **kwargs):\n",
    "    kwargs.pop(\"check_hash\")\n",
    "    return load_state_dict_from_url(self.url, *args, **kwargs)\n",
    "WeightsEnum.get_state_dict = get_state_dict\n",
    "\n",
    "model_efficientnet = efficientnet_b0(weights=EfficientNet_B0_Weights.IMAGENET1K_V1)\n",
    "model_efficientnet.classifier[1] = nn.Linear(model_efficientnet.classifier[1].in_features, num_classes)\n",
    "model_efficientnet = model_efficientnet.to(mps_device)\n",
    "\n",
    "model_mobilenetv2 = models.mobilenet_v2(pretrained=True)\n",
    "model_mobilenetv2.classifier[1] = nn.Linear(model_mobilenetv2.last_channel, num_classes)\n",
    "model_mobilenetv2 = model_mobilenetv2.to(mps_device)\n",
    "\n",
    "models_ensemble = [model, model_efficientnet, model_mobilenetv2]"
   ]
  },
  {
   "cell_type": "code",
   "execution_count": 20,
   "id": "6d5701dd-3128-4bc0-b77e-22aad913b130",
   "metadata": {},
   "outputs": [],
   "source": [
    "criterion = nn.CrossEntropyLoss()"
   ]
  },
  {
   "cell_type": "code",
   "execution_count": 21,
   "id": "925653ab-48df-464e-9033-a9cdc98813fb",
   "metadata": {},
   "outputs": [
    {
     "name": "stdout",
     "output_type": "stream",
     "text": [
      "Training model 1/3\n",
      "Epoch 1/20, Loss: 3.9603, Accuracy: 16.26%\n",
      "Epoch 11/20, Loss: 0.8733, Accuracy: 71.78%\n",
      "Training model 2/3\n",
      "Epoch 1/20, Loss: 4.2756, Accuracy: 8.25%\n",
      "Epoch 11/20, Loss: 1.5906, Accuracy: 54.68%\n",
      "Training model 3/3\n",
      "Epoch 1/20, Loss: 3.2602, Accuracy: 22.27%\n",
      "Epoch 11/20, Loss: 1.3672, Accuracy: 59.26%\n"
     ]
    }
   ],
   "source": [
    "for i, model in enumerate(models_ensemble):\n",
    "    print(f\"Training model {i+1}/{len(models_ensemble)}\")\n",
    "    optimizer = torch.optim.SGD(model.parameters(), lr=0.001, momentum=0.9)\n",
    "    train_model(model, train_dataloader, criterion, optimizer, epochs=20, device=mps_device)\n"
   ]
  },
  {
   "cell_type": "code",
   "execution_count": 17,
   "id": "4b715efb-6e6f-4b73-a43a-db718865e7a8",
   "metadata": {},
   "outputs": [],
   "source": [
    "def evaluate_ensemble(models, dataloader, criterion, device):\n",
    "    for model in models:\n",
    "        model.eval()\n",
    "    \n",
    "    total_loss = 0\n",
    "    all_labels = []\n",
    "    all_preds = []\n",
    "\n",
    "    with torch.no_grad():\n",
    "        for images, labels, img_paths in dataloader:\n",
    "            images, labels = images.to(device), labels.to(device)\n",
    "            ensemble_outputs = torch.zeros(labels.size(0), 100).to(device)\n",
    "            #print(labels.size(0))\n",
    "            for model in models:\n",
    "                outputs = model(images)\n",
    "                ensemble_outputs += torch.softmax(outputs, dim=1)\n",
    "\n",
    "            ensemble_outputs /= len(models)\n",
    "            loss = criterion(ensemble_outputs, labels)\n",
    "            total_loss += loss.item()\n",
    "\n",
    "            _, predicted = torch.max(ensemble_outputs.data, 1)\n",
    "            all_labels.extend(labels.cpu().numpy())\n",
    "            all_preds.extend(predicted.cpu().numpy())\n",
    "            \n",
    "            \n",
    "    avg_loss = total_loss / len(dataloader)\n",
    "    accuracy = accuracy_score(all_labels, all_preds)\n",
    "    precision = precision_score(all_labels, all_preds, average='weighted')\n",
    "    recall = recall_score(all_labels, all_preds, average='weighted')\n",
    "    f1 = f1_score(all_labels, all_preds, average='weighted')\n",
    "\n",
    "    return avg_loss, accuracy, precision, recall, f1\n"
   ]
  },
  {
   "cell_type": "code",
   "execution_count": 18,
   "id": "40ef935c-1918-4ca1-9618-bdbd3d9cba22",
   "metadata": {},
   "outputs": [
    {
     "name": "stdout",
     "output_type": "stream",
     "text": [
      "Ensemble Results:\n",
      "Average loss:  3.928706428527832\n",
      "Accuracy:  89.3425\n",
      "Precision:  89.70210547882589\n",
      "Recall:  89.3425\n",
      "F1 score:  89.21616304843306\n"
     ]
    }
   ],
   "source": [
    "avg_loss, acc, prec, rec, f1 = evaluate_ensemble(models_ensemble, test_dataloader, criterion, mps_device)\n",
    "print(\"Ensemble Results:\")\n",
    "print(\"Average loss: \", avg_loss)\n",
    "print(\"Accuracy: \", acc*100)\n",
    "print(\"Precision: \", prec*100)\n",
    "print(\"Recall: \", rec*100)\n",
    "print(\"F1 score: \", f1*100)\n"
   ]
  },
  {
   "cell_type": "code",
   "execution_count": 19,
   "id": "b95c471a-656f-4446-beea-ed624455bd09",
   "metadata": {},
   "outputs": [],
   "source": [
    "import pandas as pd\n",
    "import torch\n",
    "\n",
    "def generate_pseudo_labels_ensemble(models, dataloader):\n",
    "    for model in models:\n",
    "        model.eval()\n",
    "\n",
    "    pseudo_label_data = []\n",
    "    with torch.no_grad():\n",
    "        for images, img_paths in dataloader:\n",
    "            images = images.to(mps_device)\n",
    "\n",
    "            ensemble_outputs = torch.zeros(images.size(0), num_classes).to(mps_device)\n",
    "            for model in models:\n",
    "                outputs = model(images)\n",
    "                ensemble_outputs += torch.softmax(outputs, dim=1)\n",
    "            ensemble_outputs /= len(models)\n",
    "\n",
    "            _, predicted = torch.max(ensemble_outputs, 1)\n",
    "\n",
    "            for img_path, label in zip(img_paths, predicted):\n",
    "                pseudo_label_data.append((img_path, label.item()))\n",
    "\n",
    "    pseudo_labels_df = pd.DataFrame(pseudo_label_data, columns=['sample', 'label'])\n",
    "    return pseudo_labels_df\n"
   ]
  },
  {
   "cell_type": "code",
   "execution_count": 20,
   "id": "c5a2c7a9-81e3-40ad-be52-f9ac9f63bc61",
   "metadata": {},
   "outputs": [],
   "source": [
    "val_unlabeled_dataset = AAITDataset(None, val_img_dir, is_train=False, transform=transform)\n",
    "val_unlabeled_dataloader = DataLoader(val_unlabeled_dataset, batch_size=64, shuffle=False)\n",
    "\n",
    "val_labels = generate_pseudo_labels_ensemble(models_ensemble, val_unlabeled_dataloader)\n",
    "val_labels['sample'] = val_labels['sample'].apply(lambda x: x.split('/')[-1])\n"
   ]
  },
  {
   "cell_type": "code",
   "execution_count": 21,
   "id": "eedc33dd-c9c9-4661-9872-ef00baf69e9f",
   "metadata": {},
   "outputs": [],
   "source": [
    "val_labels['sort_key'] = val_labels['sample'].str.extract('(\\d+)').astype(int)\n",
    "val_labels.sort_values(by='sort_key', ascending=True, inplace=True)\n",
    "val_labels.reset_index(inplace=True)\n",
    "val_labels.drop(columns=['sort_key','index'], inplace=True)\n",
    "\n",
    "val_labels.to_csv('task2/ensemble.csv', index=False)"
   ]
  },
  {
   "cell_type": "code",
   "execution_count": null,
   "id": "26c4be2e-2ce5-4416-a824-5a6310d5d501",
   "metadata": {},
   "outputs": [],
   "source": []
  }
 ],
 "metadata": {
  "kernelspec": {
   "display_name": "Python 3 (ipykernel)",
   "language": "python",
   "name": "python3"
  },
  "language_info": {
   "codemirror_mode": {
    "name": "ipython",
    "version": 3
   },
   "file_extension": ".py",
   "mimetype": "text/x-python",
   "name": "python",
   "nbconvert_exporter": "python",
   "pygments_lexer": "ipython3",
   "version": "3.10.13"
  }
 },
 "nbformat": 4,
 "nbformat_minor": 5
}
